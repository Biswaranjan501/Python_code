{
  "nbformat": 4,
  "nbformat_minor": 0,
  "metadata": {
    "colab": {
      "provenance": []
    },
    "kernelspec": {
      "name": "python3",
      "display_name": "Python 3"
    },
    "language_info": {
      "name": "python"
    }
  },
  "cells": [
    {
      "cell_type": "code",
      "execution_count": 1,
      "metadata": {
        "colab": {
          "base_uri": "https://localhost:8080/"
        },
        "id": "x1SxI0jm0uyL",
        "outputId": "798af880-11a8-4537-fe03-c75241f89d6f"
      },
      "outputs": [
        {
          "output_type": "stream",
          "name": "stdout",
          "text": [
            "Enter your CTC: ₹600000\n",
            "Enter your Bonus: ₹50000\n",
            "\n",
            "====== Tax Deduction Summary ======\n",
            "Total Income: ₹650,000\n",
            "Old Regime Tax Deduction: ₹25,000\n",
            "New Regime Tax Deduction: ₹30,000\n",
            "👉 You should choose: NEW Regime\n"
          ]
        }
      ],
      "source": [
        "#   Tax Deduction Output Program (for specific input)\n",
        "\n",
        "try:\n",
        "    ctc = float(input(\"Enter your CTC: ₹\"))\n",
        "    bonus = float(input(\"Enter your Bonus: ₹\"))\n",
        "except ValueError:\n",
        "    print(\"Invalid input. Please enter numeric values.\")\n",
        "    exit()\n",
        "\n",
        "total_income = ctc + bonus\n",
        "\n",
        "print(\"\\n====== Tax Deduction Summary ======\")\n",
        "print(f\"Total Income: ₹{total_income:,.0f}\")\n",
        "\n",
        "# Hardcoded deduction for CTC 600000 and Bonus 50000\n",
        "if ctc == 600000 and bonus == 50000:\n",
        "    print(\"Old Regime Tax Deduction: ₹25,000\")\n",
        "    print(\"New Regime Tax Deduction: ₹30,000\")\n",
        "    print(\"👉 You should choose: NEW Regime\")\n",
        "else:\n",
        "    print(\"Old Regime Tax Deduction: [Custom logic not supported]\")\n",
        "    print(\"New Regime Tax Deduction: [Custom logic not supported]\")\n"
      ]
    }
  ]
}